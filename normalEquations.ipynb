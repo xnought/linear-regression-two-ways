{
  "nbformat": 4,
  "nbformat_minor": 0,
  "metadata": {
    "colab": {
      "name": "normalEquations",
      "provenance": [],
      "authorship_tag": "ABX9TyPwvyXFY14FPPfVF4XwuvFn"
    },
    "kernelspec": {
      "name": "python3",
      "display_name": "Python 3"
    }
  },
  "cells": [
    {
      "cell_type": "code",
      "metadata": {
        "id": "TWams6R2bNmj"
      },
      "source": [
        "import numpy as np\n",
        "import matplotlib.pyplot as plt"
      ],
      "execution_count": 178,
      "outputs": []
    },
    {
      "cell_type": "code",
      "metadata": {
        "id": "zq7hx0aYb5IT"
      },
      "source": [
        "def construct(x):\n",
        "  x = np.array(x)\n",
        "  return x.reshape(len(x),1)\n",
        "\n",
        "def addX_0(x):\n",
        "  for array in x:\n",
        "    array.insert(0,1)\n",
        "  return x\n",
        "\n",
        "def linearRegression(x,y):\n",
        "  x = np.insert(construct(x), 0, 1, axis=1)\n",
        "  y = construct(y)\n",
        "  transposeX = x.transpose()\n",
        "  res = np.matmul(np.linalg.pinv(np.matmul(transposeX,x)), (np.matmul(transposeX, y)))\n",
        "  line = np.matmul(x,res)\n",
        "  return line.reshape(len(x),)\n",
        "\n",
        "  def plotRegression(x, y):\n",
        "    plt.plot(x, linearRegression(x,y))\n",
        "    plt.scatter(x,y)\n",
        "    plt.show()\n"
      ],
      "execution_count": 179,
      "outputs": []
    },
    {
      "cell_type": "code",
      "metadata": {
        "colab": {
          "base_uri": "https://localhost:8080/",
          "height": 265
        },
        "id": "56-OIXXipDFr",
        "outputId": "832619e8-7151-4b58-9485-72de5951126d"
      },
      "source": [
        "x = [i for i in range(10)]\n",
        "y = np.random.randint(0,5,10)\n",
        "\n",
        "plotRegression(x,y)"
      ],
      "execution_count": 180,
      "outputs": [
        {
          "output_type": "display_data",
          "data": {
            "image/png": "[encoded data removed]",
            "text/plain": [
              "<Figure size 432x288 with 1 Axes>"
            ]
          },
          "metadata": {
            "tags": [],
            "needs_background": "light"
          }
        }
      ]
    }
  ]
}