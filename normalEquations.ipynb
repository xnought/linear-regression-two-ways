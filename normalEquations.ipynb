{
  "nbformat": 4,
  "nbformat_minor": 0,
  "metadata": {
    "colab": {
      "name": "normalEquations",
      "provenance": []
    },
    "kernelspec": {
      "name": "python3",
      "display_name": "Python 3"
    }
  },
  "cells": [
    {
      "cell_type": "code",
      "metadata": {
        "id": "TWams6R2bNmj"
      },
      "source": [
        "import numpy as np\n",
        "import matplotlib.pyplot as plt"
      ],
      "execution_count": null,
      "outputs": []
    },
    {
      "cell_type": "code",
      "metadata": {
        "id": "vk2iNXv0tImy"
      },
      "source": [
        "#same data for the grad descent program\n",
        "x = [i for i in range(7)]\n",
        "y = [2,4,6,8,10,11,12]"
      ],
      "execution_count": 37,
      "outputs": []
    },
    {
      "cell_type": "code",
      "metadata": {
        "id": "zq7hx0aYb5IT"
      },
      "source": [
        "def construct(x):\n",
        "  x = np.array(x)\n",
        "  return x.reshape(len(x),1)\n",
        "\n",
        "def addX_0(x):\n",
        "  for array in x:\n",
        "    array.insert(0,1)\n",
        "  return x\n",
        "\n",
        "def linearRegression(x,y):\n",
        "  x = np.insert(construct(x), 0, 1, axis=1)\n",
        "  y = construct(y)\n",
        "  transposeX = x.transpose()\n",
        "  res = np.matmul(np.linalg.pinv(np.matmul(transposeX,x)), (np.matmul(transposeX, y)))\n",
        "  line = np.matmul(x,res)\n",
        "  return line.reshape(len(x),)\n",
        "\n",
        "def getEquation(line):\n",
        "  x0 = 0\n",
        "  x1 = 1\n",
        "  y0 = line[x0]\n",
        "  y1 = line[x1]\n",
        "\n",
        "  m = (y1-y0)/(x1-x0)\n",
        "  b = y1 - m*x1\n",
        "  return (m,b)\n",
        "\n",
        "\n",
        "def get_r_squared(y, yhat):\n",
        "  #convert to numpy array\n",
        "  y = np.array(y)\n",
        "  yhat = np.array(yhat)\n",
        "\n",
        "  mean = np.sum(y) / len(y)\n",
        "  mean_squared_error = np.sum((mean-y)**2)\n",
        "\n",
        "  squared_error = np.sum((yhat - y)**2)\n",
        "  r_squared = 1 - (squared_error / mean_squared_error)\n",
        "  r_squared = np.round(r_squared,3)\n",
        "  return r_squared"
      ],
      "execution_count": 39,
      "outputs": []
    },
    {
      "cell_type": "code",
      "metadata": {
        "colab": {
          "base_uri": "https://localhost:8080/",
          "height": 281
        },
        "id": "56-OIXXipDFr",
        "outputId": "710879ca-c787-45d6-fecc-329c0e54ebf2"
      },
      "source": [
        "yhat = linearRegression(x,y)\n",
        "m,b = getEquation(yhat)\n",
        "plt.plot(yhat)\n",
        "plt.scatter(x,y)\n",
        "plt.title(f\"Fit with y = {m}x + {b}, r^2 = {get_r_squared(y,yhat)}\")\n",
        "plt.show()"
      ],
      "execution_count": 41,
      "outputs": [
        {
          "output_type": "display_data",
          "data": {
            "image/png": "[encoded data removed]",
            "text/plain": [
              "<Figure size 432x288 with 1 Axes>"
            ]
          },
          "metadata": {
            "tags": [],
            "needs_background": "light"
          }
        }
      ]
    },
    {
      "cell_type": "code",
      "metadata": {
        "id": "KsHnN5LTtinY"
      },
      "source": [
        "\n"
      ],
      "execution_count": null,
      "outputs": []
    }
  ]
}