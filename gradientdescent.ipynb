{
  "nbformat": 4,
  "nbformat_minor": 0,
  "metadata": {
    "colab": {
      "name": "gradientdescent.ipynb",
      "provenance": []
    },
    "kernelspec": {
      "name": "python3",
      "display_name": "Python 3"
    }
  },
  "cells": [
    {
      "cell_type": "code",
      "metadata": {
        "id": "D7014Njjk6Ug"
      },
      "source": [
        "import matplotlib.pyplot as plt\n",
        "import numpy as np"
      ],
      "execution_count": null,
      "outputs": []
    },
    {
      "cell_type": "code",
      "metadata": {
        "id": "ahXxmIBBqT54"
      },
      "source": [
        "#Data we want to fit\n",
        "X = np.array(range(7))\n",
        "y = np.array([2,4,6,8,10,11,12])"
      ],
      "execution_count": null,
      "outputs": []
    },
    {
      "cell_type": "code",
      "metadata": {
        "id": "QcLU_MssqZmJ"
      },
      "source": [
        "#hypothesis function\n",
        "def h(x):\n",
        "    return m*x+b\n",
        "\n",
        "#defines the loss function\n",
        "def loss(y, yhat, loss_array):\n",
        "    loss_array.append(np.sum((yhat-y)**2))\n",
        "\n",
        "#plots the loss at the end of training\n",
        "def plot_loss(loss_array, epochs, learning_rate):\n",
        "    plt.plot(loss_array)\n",
        "    plt.ylabel('Loss', fontsize=18)\n",
        "    plt.xlabel('Epochs', fontsize=18)\n",
        "    plt.xlim(0,epochs)\n",
        "    plt.ylim(0,26)\n",
        "    plt.title(f\"Learning Rate: {lr}\")\n",
        "\n",
        "#gets the r^2 value\n",
        "def get_r_squared(y, yhat):\n",
        "  #convert to numpy array\n",
        "  y = np.array(y)\n",
        "  yhat = np.array(yhat)\n",
        "\n",
        "  mean = np.sum(y) / len(y)\n",
        "  mean_squared_error = np.sum((mean-y)**2)\n",
        "\n",
        "  squared_error = np.sum((yhat - y)**2)\n",
        "  r_squared = 1 - (squared_error / mean_squared_error)\n",
        "  r_squared = np.round(r_squared,3)\n",
        "  return r_squared"
      ],
      "execution_count": null,
      "outputs": []
    },
    {
      "cell_type": "code",
      "metadata": {
        "colab": {
          "base_uri": "https://localhost:8080/"
        },
        "id": "5dDzYC2zlrrs",
        "outputId": "fb2a1dd2-706f-4b73-bc6b-5e8e091e2820"
      },
      "source": [
        "lr = 0.01 # The learning Rate\n",
        "epochs = 1000 #amount of epochs of gradient descent\n",
        "loss_array = [] #loss array to plot at the end\n",
        "\n",
        "m = 0 #inital m value\n",
        "b = 0 #inital b value\n",
        "for _ in range(epochs):\n",
        "    prediction = h(X) #start out with the predicted value\n",
        "    #next compute gradients\n",
        "    djdm = 2 * np.sum((prediction - y)*X)\n",
        "    djdb = 2 * np.sum(prediction - y)\n",
        "\n",
        "    #then we perform the descent\n",
        "    m = m - lr*djdm\n",
        "    b = b - lr*djdb\n",
        "    loss(y, prediction, loss_array)\n",
        "\n",
        "print(f\"Final Line: y = {m}x + {b}\")\n",
        "print(f\"Loss: {loss_array[len(loss_array) - 1]}\")"
      ],
      "execution_count": null,
      "outputs": [
        {
          "output_type": "stream",
          "text": [
            "Final Line: y = 1.7142857142857146x + 2.428571428571427\n",
            "Loss: 1.4285714285714304\n"
          ],
          "name": "stdout"
        }
      ]
    },
    {
      "cell_type": "code",
      "metadata": {
        "id": "NfUtdEc6zLod",
        "colab": {
          "base_uri": "https://localhost:8080/",
          "height": 298
        },
        "outputId": "aa9eb618-7e5c-4e2c-c4eb-f3594d7e3e4f"
      },
      "source": [
        "#plot the final line\n",
        "plt.scatter(X,y)\n",
        "yhat = X*m +b\n",
        "plt.plot(yhat)\n",
        "\n",
        "plt.title(f\"Fit with y = {m}x + {b}, r^2 = {get_r_squared(y,yhat)}\")"
      ],
      "execution_count": null,
      "outputs": [
        {
          "output_type": "execute_result",
          "data": {
            "text/plain": [
              "Text(0.5, 1.0, 'Fit with y = 1.7142857142857146x + 2.428571428571427, r^2 = 0.983')"
            ]
          },
          "metadata": {
            "tags": []
          },
          "execution_count": 26
        },
        {
          "output_type": "display_data",
          "data": {
            "image/png": "[encoded data removed]",
            "text/plain": [
              "<Figure size 432x288 with 1 Axes>"
            ]
          },
          "metadata": {
            "tags": [],
            "needs_background": "light"
          }
        }
      ]
    },
    {
      "cell_type": "code",
      "metadata": {
        "colab": {
          "base_uri": "https://localhost:8080/",
          "height": 303
        },
        "id": "2NxS1sHmvho7",
        "outputId": "a9c2cf29-f95e-453c-89ad-e76d9154a2cf"
      },
      "source": [
        "#plot the loss during gradient descent\n",
        "plot_loss(loss_array, epochs, lr)"
      ],
      "execution_count": 27,
      "outputs": [
        {
          "output_type": "display_data",
          "data": {
            "image/png": "[encoded data removed]",
            "text/plain": [
              "<Figure size 432x288 with 1 Axes>"
            ]
          },
          "metadata": {
            "tags": [],
            "needs_background": "light"
          }
        }
      ]
    }
  ]
}